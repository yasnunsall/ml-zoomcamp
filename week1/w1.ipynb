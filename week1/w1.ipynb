{
 "cells": [
  {
   "cell_type": "code",
   "id": "initial_id",
   "metadata": {
    "collapsed": true,
    "ExecuteTime": {
     "end_time": "2025-09-29T12:30:12.208977Z",
     "start_time": "2025-09-29T12:30:12.195193Z"
    }
   },
   "source": [
    "from statistics import median\n",
    "import pandas as pd\n",
    "import numpy as np\n",
    "\n",
    "data = pd.read_csv(\"car_fuel_efficiency.txt\")\n",
    "data = pd.DataFrame(data)"
   ],
   "outputs": [],
   "execution_count": 106
  },
  {
   "metadata": {
    "ExecuteTime": {
     "end_time": "2025-09-29T11:06:16.683527Z",
     "start_time": "2025-09-29T11:06:16.680822Z"
    }
   },
   "cell_type": "code",
   "source": "len(data)",
   "id": "e553899754b41b5f",
   "outputs": [
    {
     "data": {
      "text/plain": [
       "9704"
      ]
     },
     "execution_count": 15,
     "metadata": {},
     "output_type": "execute_result"
    }
   ],
   "execution_count": 15
  },
  {
   "metadata": {
    "ExecuteTime": {
     "end_time": "2025-09-29T11:07:35.354829Z",
     "start_time": "2025-09-29T11:07:35.348346Z"
    }
   },
   "cell_type": "code",
   "source": "data.head()",
   "id": "1a645b5995db8d7c",
   "outputs": [
    {
     "data": {
      "text/plain": [
       "   engine_displacement  num_cylinders  horsepower  vehicle_weight  \\\n",
       "0                  170            3.0       159.0     3413.433759   \n",
       "1                  130            5.0        97.0     3149.664934   \n",
       "2                  170            NaN        78.0     3079.038997   \n",
       "3                  220            4.0         NaN     2542.392402   \n",
       "4                  210            1.0       140.0     3460.870990   \n",
       "\n",
       "   acceleration  model_year  origin fuel_type         drivetrain  num_doors  \\\n",
       "0          17.7        2003  Europe  Gasoline    All-wheel drive        0.0   \n",
       "1          17.8        2007     USA  Gasoline  Front-wheel drive        0.0   \n",
       "2          15.1        2018  Europe  Gasoline  Front-wheel drive        0.0   \n",
       "3          20.2        2009     USA    Diesel    All-wheel drive        2.0   \n",
       "4          14.4        2009  Europe  Gasoline    All-wheel drive        2.0   \n",
       "\n",
       "   fuel_efficiency_mpg  \n",
       "0            13.231729  \n",
       "1            13.688217  \n",
       "2            14.246341  \n",
       "3            16.912736  \n",
       "4            12.488369  "
      ],
      "text/html": [
       "<div>\n",
       "<style scoped>\n",
       "    .dataframe tbody tr th:only-of-type {\n",
       "        vertical-align: middle;\n",
       "    }\n",
       "\n",
       "    .dataframe tbody tr th {\n",
       "        vertical-align: top;\n",
       "    }\n",
       "\n",
       "    .dataframe thead th {\n",
       "        text-align: right;\n",
       "    }\n",
       "</style>\n",
       "<table border=\"1\" class=\"dataframe\">\n",
       "  <thead>\n",
       "    <tr style=\"text-align: right;\">\n",
       "      <th></th>\n",
       "      <th>engine_displacement</th>\n",
       "      <th>num_cylinders</th>\n",
       "      <th>horsepower</th>\n",
       "      <th>vehicle_weight</th>\n",
       "      <th>acceleration</th>\n",
       "      <th>model_year</th>\n",
       "      <th>origin</th>\n",
       "      <th>fuel_type</th>\n",
       "      <th>drivetrain</th>\n",
       "      <th>num_doors</th>\n",
       "      <th>fuel_efficiency_mpg</th>\n",
       "    </tr>\n",
       "  </thead>\n",
       "  <tbody>\n",
       "    <tr>\n",
       "      <th>0</th>\n",
       "      <td>170</td>\n",
       "      <td>3.0</td>\n",
       "      <td>159.0</td>\n",
       "      <td>3413.433759</td>\n",
       "      <td>17.7</td>\n",
       "      <td>2003</td>\n",
       "      <td>Europe</td>\n",
       "      <td>Gasoline</td>\n",
       "      <td>All-wheel drive</td>\n",
       "      <td>0.0</td>\n",
       "      <td>13.231729</td>\n",
       "    </tr>\n",
       "    <tr>\n",
       "      <th>1</th>\n",
       "      <td>130</td>\n",
       "      <td>5.0</td>\n",
       "      <td>97.0</td>\n",
       "      <td>3149.664934</td>\n",
       "      <td>17.8</td>\n",
       "      <td>2007</td>\n",
       "      <td>USA</td>\n",
       "      <td>Gasoline</td>\n",
       "      <td>Front-wheel drive</td>\n",
       "      <td>0.0</td>\n",
       "      <td>13.688217</td>\n",
       "    </tr>\n",
       "    <tr>\n",
       "      <th>2</th>\n",
       "      <td>170</td>\n",
       "      <td>NaN</td>\n",
       "      <td>78.0</td>\n",
       "      <td>3079.038997</td>\n",
       "      <td>15.1</td>\n",
       "      <td>2018</td>\n",
       "      <td>Europe</td>\n",
       "      <td>Gasoline</td>\n",
       "      <td>Front-wheel drive</td>\n",
       "      <td>0.0</td>\n",
       "      <td>14.246341</td>\n",
       "    </tr>\n",
       "    <tr>\n",
       "      <th>3</th>\n",
       "      <td>220</td>\n",
       "      <td>4.0</td>\n",
       "      <td>NaN</td>\n",
       "      <td>2542.392402</td>\n",
       "      <td>20.2</td>\n",
       "      <td>2009</td>\n",
       "      <td>USA</td>\n",
       "      <td>Diesel</td>\n",
       "      <td>All-wheel drive</td>\n",
       "      <td>2.0</td>\n",
       "      <td>16.912736</td>\n",
       "    </tr>\n",
       "    <tr>\n",
       "      <th>4</th>\n",
       "      <td>210</td>\n",
       "      <td>1.0</td>\n",
       "      <td>140.0</td>\n",
       "      <td>3460.870990</td>\n",
       "      <td>14.4</td>\n",
       "      <td>2009</td>\n",
       "      <td>Europe</td>\n",
       "      <td>Gasoline</td>\n",
       "      <td>All-wheel drive</td>\n",
       "      <td>2.0</td>\n",
       "      <td>12.488369</td>\n",
       "    </tr>\n",
       "  </tbody>\n",
       "</table>\n",
       "</div>"
      ]
     },
     "execution_count": 16,
     "metadata": {},
     "output_type": "execute_result"
    }
   ],
   "execution_count": 16
  },
  {
   "metadata": {
    "SqlCellData": {
     "variableName$1": "df_sql1"
    }
   },
   "cell_type": "code",
   "outputs": [],
   "execution_count": null,
   "source": "%%sql\n",
   "id": "cbb2be37c433c0b4"
  },
  {
   "metadata": {
    "ExecuteTime": {
     "end_time": "2025-09-29T11:07:58.967926Z",
     "start_time": "2025-09-29T11:07:58.963722Z"
    }
   },
   "cell_type": "code",
   "source": "data.fuel_type.unique().__len__()",
   "id": "c0f8d4c360b9cd4",
   "outputs": [
    {
     "data": {
      "text/plain": [
       "2"
      ]
     },
     "execution_count": 17,
     "metadata": {},
     "output_type": "execute_result"
    }
   ],
   "execution_count": 17
  },
  {
   "metadata": {
    "ExecuteTime": {
     "end_time": "2025-09-29T11:11:44.548363Z",
     "start_time": "2025-09-29T11:11:44.542Z"
    }
   },
   "cell_type": "code",
   "source": "(data.isna().sum())",
   "id": "87f73f08bf6724cb",
   "outputs": [
    {
     "data": {
      "text/plain": [
       "engine_displacement      0\n",
       "num_cylinders          482\n",
       "horsepower             708\n",
       "vehicle_weight           0\n",
       "acceleration           930\n",
       "model_year               0\n",
       "origin                   0\n",
       "fuel_type                0\n",
       "drivetrain               0\n",
       "num_doors              502\n",
       "fuel_efficiency_mpg      0\n",
       "dtype: int64"
      ]
     },
     "execution_count": 31,
     "metadata": {},
     "output_type": "execute_result"
    }
   ],
   "execution_count": 31
  },
  {
   "metadata": {
    "ExecuteTime": {
     "end_time": "2025-09-29T11:17:21.706524Z",
     "start_time": "2025-09-29T11:17:21.699640Z"
    }
   },
   "cell_type": "code",
   "source": "max(data[data.origin == \"Asia\"].fuel_efficiency_mpg.values)",
   "id": "11d3ad5086d3e9fa",
   "outputs": [
    {
     "data": {
      "text/plain": [
       "np.float64(23.759122836520497)"
      ]
     },
     "execution_count": 39,
     "metadata": {},
     "output_type": "execute_result"
    }
   ],
   "execution_count": 39
  },
  {
   "metadata": {
    "ExecuteTime": {
     "end_time": "2025-09-29T11:22:18.383981Z",
     "start_time": "2025-09-29T11:22:18.381478Z"
    }
   },
   "cell_type": "code",
   "source": "cleaned_data = data.horsepower.dropna()",
   "id": "db114f7606b007bb",
   "outputs": [],
   "execution_count": 50
  },
  {
   "metadata": {
    "ExecuteTime": {
     "end_time": "2025-09-29T11:37:57.281710Z",
     "start_time": "2025-09-29T11:37:57.276341Z"
    }
   },
   "cell_type": "code",
   "source": [
    "if len(cleaned_data) % 2 == 1:\n",
    "    median = sorted(cleaned_data)[(len(cleaned_data)+1)//2]\n",
    "else:\n",
    "    median = sum(sorted(cleaned_data)[len(cleaned_data)//2:len(cleaned_data)//2+1])/2\n",
    "median"
   ],
   "id": "1d469492c344103",
   "outputs": [
    {
     "data": {
      "text/plain": [
       "74.5"
      ]
     },
     "execution_count": 90,
     "metadata": {},
     "output_type": "execute_result"
    }
   ],
   "execution_count": 90
  },
  {
   "metadata": {
    "ExecuteTime": {
     "end_time": "2025-09-29T11:39:03.645839Z",
     "start_time": "2025-09-29T11:39:03.580267Z"
    }
   },
   "cell_type": "code",
   "source": [
    "unique_values = {}\n",
    "for value in cleaned_data:\n",
    "    if value not in unique_values:\n",
    "        unique_values[value] = sum(cleaned_data == value)\n"
   ],
   "id": "db4f687718e2ee79",
   "outputs": [],
   "execution_count": 92
  },
  {
   "metadata": {
    "ExecuteTime": {
     "end_time": "2025-09-29T11:39:07.802934Z",
     "start_time": "2025-09-29T11:39:07.799386Z"
    }
   },
   "cell_type": "code",
   "source": [
    "most_frequent = unique_values[sorted(unique_values, key=unique_values.get, reverse=True)[0]]\n",
    "most_frequent"
   ],
   "id": "f5dc7f6aa61fedeb",
   "outputs": [
    {
     "data": {
      "text/plain": [
       "142"
      ]
     },
     "execution_count": 93,
     "metadata": {},
     "output_type": "execute_result"
    }
   ],
   "execution_count": 93
  },
  {
   "metadata": {
    "ExecuteTime": {
     "end_time": "2025-09-29T11:39:28.779415Z",
     "start_time": "2025-09-29T11:39:28.777190Z"
    }
   },
   "cell_type": "code",
   "source": "data_filled = data.horsepower.fillna(most_frequent)",
   "id": "1c1d5bc6dea1b5e4",
   "outputs": [],
   "execution_count": 95
  },
  {
   "metadata": {
    "ExecuteTime": {
     "end_time": "2025-09-29T11:40:27.554127Z",
     "start_time": "2025-09-29T11:40:27.548274Z"
    }
   },
   "cell_type": "code",
   "source": [
    "if len(data_filled) % 2 == 1:\n",
    "    new_median = sorted(data_filled)[(len(data_filled)+1)//2]\n",
    "else:\n",
    "    new_median = sum(sorted(data_filled)[len(data_filled)//2:len(data_filled)//2+1])/2\n",
    "new_median"
   ],
   "id": "f7dad61ea3f7ff59",
   "outputs": [
    {
     "data": {
      "text/plain": [
       "73.0"
      ]
     },
     "execution_count": 96,
     "metadata": {},
     "output_type": "execute_result"
    }
   ],
   "execution_count": 96
  },
  {
   "metadata": {
    "ExecuteTime": {
     "end_time": "2025-09-29T11:40:48.696245Z",
     "start_time": "2025-09-29T11:40:48.694288Z"
    }
   },
   "cell_type": "code",
   "source": "#DECREASED",
   "id": "75d58da66582981c",
   "outputs": [],
   "execution_count": 97
  },
  {
   "metadata": {
    "ExecuteTime": {
     "end_time": "2025-09-29T11:43:30.488564Z",
     "start_time": "2025-09-29T11:43:30.486307Z"
    }
   },
   "cell_type": "code",
   "source": "X = data[[\"vehicle_weight\", \"model_year\"]][:7]",
   "id": "6a0c104fc439632c",
   "outputs": [],
   "execution_count": 101
  },
  {
   "metadata": {
    "ExecuteTime": {
     "end_time": "2025-09-29T12:31:12.494480Z",
     "start_time": "2025-09-29T12:31:12.491859Z"
    }
   },
   "cell_type": "code",
   "source": "xTx = X.T@X",
   "id": "cc3019a047f976e5",
   "outputs": [],
   "execution_count": 107
  },
  {
   "metadata": {
    "ExecuteTime": {
     "end_time": "2025-09-29T12:31:25.035942Z",
     "start_time": "2025-09-29T12:31:25.033502Z"
    }
   },
   "cell_type": "code",
   "source": "xTx_inv = np.linalg.inv(xTx)",
   "id": "d7af490fd982fa43",
   "outputs": [],
   "execution_count": 108
  },
  {
   "metadata": {
    "ExecuteTime": {
     "end_time": "2025-09-29T12:32:39.455517Z",
     "start_time": "2025-09-29T12:32:39.453303Z"
    }
   },
   "cell_type": "code",
   "source": "y = [1100, 1300, 800, 900, 1000, 1100, 1200]",
   "id": "1a9ff8d0e77de28b",
   "outputs": [],
   "execution_count": 109
  },
  {
   "metadata": {
    "ExecuteTime": {
     "end_time": "2025-09-29T12:33:01.106335Z",
     "start_time": "2025-09-29T12:33:01.103253Z"
    }
   },
   "cell_type": "code",
   "source": "sum((xTx_inv@X.T)@y)",
   "id": "4cfb294bc038d3f0",
   "outputs": [
    {
     "data": {
      "text/plain": [
       "0.4903094879707429"
      ]
     },
     "execution_count": 111,
     "metadata": {},
     "output_type": "execute_result"
    }
   ],
   "execution_count": 111
  },
  {
   "metadata": {},
   "cell_type": "code",
   "outputs": [],
   "execution_count": null,
   "source": "",
   "id": "781d6666c44828ee"
  }
 ],
 "metadata": {
  "kernelspec": {
   "display_name": "Python 3",
   "language": "python",
   "name": "python3"
  },
  "language_info": {
   "codemirror_mode": {
    "name": "ipython",
    "version": 2
   },
   "file_extension": ".py",
   "mimetype": "text/x-python",
   "name": "python",
   "nbconvert_exporter": "python",
   "pygments_lexer": "ipython2",
   "version": "2.7.6"
  }
 },
 "nbformat": 4,
 "nbformat_minor": 5
}
