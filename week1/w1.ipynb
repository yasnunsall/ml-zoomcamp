{
 "cells": [
  {
   "cell_type": "code",
   "id": "initial_id",
   "metadata": {
    "collapsed": true,
    "ExecuteTime": {
     "end_time": "2025-09-29T12:43:52.739659Z",
     "start_time": "2025-09-29T12:43:52.725555Z"
    }
   },
   "source": [
    "from statistics import median\n",
    "import pandas as pd\n",
    "import numpy as np\n",
    "\n",
    "data = pd.read_csv(\"car_fuel_efficiency.txt\")\n",
    "data = pd.DataFrame(data)"
   ],
   "outputs": [],
   "execution_count": 114
  },
  {
   "metadata": {
    "ExecuteTime": {
     "end_time": "2025-09-29T12:43:53.879811Z",
     "start_time": "2025-09-29T12:43:53.877231Z"
    }
   },
   "cell_type": "code",
   "source": "len(data)",
   "id": "e553899754b41b5f",
   "outputs": [
    {
     "data": {
      "text/plain": [
       "9704"
      ]
     },
     "execution_count": 115,
     "metadata": {},
     "output_type": "execute_result"
    }
   ],
   "execution_count": 115
  },
  {
   "metadata": {
    "ExecuteTime": {
     "end_time": "2025-09-29T12:43:54.548185Z",
     "start_time": "2025-09-29T12:43:54.542807Z"
    }
   },
   "cell_type": "code",
   "source": "data.head()",
   "id": "1a645b5995db8d7c",
   "outputs": [
    {
     "data": {
      "text/plain": [
       "   engine_displacement  num_cylinders  horsepower  vehicle_weight  \\\n",
       "0                  170            3.0       159.0     3413.433759   \n",
       "1                  130            5.0        97.0     3149.664934   \n",
       "2                  170            NaN        78.0     3079.038997   \n",
       "3                  220            4.0         NaN     2542.392402   \n",
       "4                  210            1.0       140.0     3460.870990   \n",
       "\n",
       "   acceleration  model_year  origin fuel_type         drivetrain  num_doors  \\\n",
       "0          17.7        2003  Europe  Gasoline    All-wheel drive        0.0   \n",
       "1          17.8        2007     USA  Gasoline  Front-wheel drive        0.0   \n",
       "2          15.1        2018  Europe  Gasoline  Front-wheel drive        0.0   \n",
       "3          20.2        2009     USA    Diesel    All-wheel drive        2.0   \n",
       "4          14.4        2009  Europe  Gasoline    All-wheel drive        2.0   \n",
       "\n",
       "   fuel_efficiency_mpg  \n",
       "0            13.231729  \n",
       "1            13.688217  \n",
       "2            14.246341  \n",
       "3            16.912736  \n",
       "4            12.488369  "
      ],
      "text/html": [
       "<div>\n",
       "<style scoped>\n",
       "    .dataframe tbody tr th:only-of-type {\n",
       "        vertical-align: middle;\n",
       "    }\n",
       "\n",
       "    .dataframe tbody tr th {\n",
       "        vertical-align: top;\n",
       "    }\n",
       "\n",
       "    .dataframe thead th {\n",
       "        text-align: right;\n",
       "    }\n",
       "</style>\n",
       "<table border=\"1\" class=\"dataframe\">\n",
       "  <thead>\n",
       "    <tr style=\"text-align: right;\">\n",
       "      <th></th>\n",
       "      <th>engine_displacement</th>\n",
       "      <th>num_cylinders</th>\n",
       "      <th>horsepower</th>\n",
       "      <th>vehicle_weight</th>\n",
       "      <th>acceleration</th>\n",
       "      <th>model_year</th>\n",
       "      <th>origin</th>\n",
       "      <th>fuel_type</th>\n",
       "      <th>drivetrain</th>\n",
       "      <th>num_doors</th>\n",
       "      <th>fuel_efficiency_mpg</th>\n",
       "    </tr>\n",
       "  </thead>\n",
       "  <tbody>\n",
       "    <tr>\n",
       "      <th>0</th>\n",
       "      <td>170</td>\n",
       "      <td>3.0</td>\n",
       "      <td>159.0</td>\n",
       "      <td>3413.433759</td>\n",
       "      <td>17.7</td>\n",
       "      <td>2003</td>\n",
       "      <td>Europe</td>\n",
       "      <td>Gasoline</td>\n",
       "      <td>All-wheel drive</td>\n",
       "      <td>0.0</td>\n",
       "      <td>13.231729</td>\n",
       "    </tr>\n",
       "    <tr>\n",
       "      <th>1</th>\n",
       "      <td>130</td>\n",
       "      <td>5.0</td>\n",
       "      <td>97.0</td>\n",
       "      <td>3149.664934</td>\n",
       "      <td>17.8</td>\n",
       "      <td>2007</td>\n",
       "      <td>USA</td>\n",
       "      <td>Gasoline</td>\n",
       "      <td>Front-wheel drive</td>\n",
       "      <td>0.0</td>\n",
       "      <td>13.688217</td>\n",
       "    </tr>\n",
       "    <tr>\n",
       "      <th>2</th>\n",
       "      <td>170</td>\n",
       "      <td>NaN</td>\n",
       "      <td>78.0</td>\n",
       "      <td>3079.038997</td>\n",
       "      <td>15.1</td>\n",
       "      <td>2018</td>\n",
       "      <td>Europe</td>\n",
       "      <td>Gasoline</td>\n",
       "      <td>Front-wheel drive</td>\n",
       "      <td>0.0</td>\n",
       "      <td>14.246341</td>\n",
       "    </tr>\n",
       "    <tr>\n",
       "      <th>3</th>\n",
       "      <td>220</td>\n",
       "      <td>4.0</td>\n",
       "      <td>NaN</td>\n",
       "      <td>2542.392402</td>\n",
       "      <td>20.2</td>\n",
       "      <td>2009</td>\n",
       "      <td>USA</td>\n",
       "      <td>Diesel</td>\n",
       "      <td>All-wheel drive</td>\n",
       "      <td>2.0</td>\n",
       "      <td>16.912736</td>\n",
       "    </tr>\n",
       "    <tr>\n",
       "      <th>4</th>\n",
       "      <td>210</td>\n",
       "      <td>1.0</td>\n",
       "      <td>140.0</td>\n",
       "      <td>3460.870990</td>\n",
       "      <td>14.4</td>\n",
       "      <td>2009</td>\n",
       "      <td>Europe</td>\n",
       "      <td>Gasoline</td>\n",
       "      <td>All-wheel drive</td>\n",
       "      <td>2.0</td>\n",
       "      <td>12.488369</td>\n",
       "    </tr>\n",
       "  </tbody>\n",
       "</table>\n",
       "</div>"
      ]
     },
     "execution_count": 116,
     "metadata": {},
     "output_type": "execute_result"
    }
   ],
   "execution_count": 116
  },
  {
   "metadata": {
    "ExecuteTime": {
     "end_time": "2025-09-29T12:43:59.813576Z",
     "start_time": "2025-09-29T12:43:59.810431Z"
    }
   },
   "cell_type": "code",
   "source": "data.fuel_type.unique().__len__()",
   "id": "c0f8d4c360b9cd4",
   "outputs": [
    {
     "data": {
      "text/plain": [
       "2"
      ]
     },
     "execution_count": 117,
     "metadata": {},
     "output_type": "execute_result"
    }
   ],
   "execution_count": 117
  },
  {
   "metadata": {
    "ExecuteTime": {
     "end_time": "2025-09-29T12:44:04.448176Z",
     "start_time": "2025-09-29T12:44:04.442745Z"
    }
   },
   "cell_type": "code",
   "source": "(data.isna().sum())",
   "id": "87f73f08bf6724cb",
   "outputs": [
    {
     "data": {
      "text/plain": [
       "engine_displacement      0\n",
       "num_cylinders          482\n",
       "horsepower             708\n",
       "vehicle_weight           0\n",
       "acceleration           930\n",
       "model_year               0\n",
       "origin                   0\n",
       "fuel_type                0\n",
       "drivetrain               0\n",
       "num_doors              502\n",
       "fuel_efficiency_mpg      0\n",
       "dtype: int64"
      ]
     },
     "execution_count": 118,
     "metadata": {},
     "output_type": "execute_result"
    }
   ],
   "execution_count": 118
  },
  {
   "metadata": {
    "ExecuteTime": {
     "end_time": "2025-09-29T12:44:07.728682Z",
     "start_time": "2025-09-29T12:44:07.723305Z"
    }
   },
   "cell_type": "code",
   "source": "max(data[data.origin == \"Asia\"].fuel_efficiency_mpg.values)",
   "id": "11d3ad5086d3e9fa",
   "outputs": [
    {
     "data": {
      "text/plain": [
       "np.float64(23.759122836520497)"
      ]
     },
     "execution_count": 119,
     "metadata": {},
     "output_type": "execute_result"
    }
   ],
   "execution_count": 119
  },
  {
   "metadata": {
    "ExecuteTime": {
     "end_time": "2025-09-29T12:44:09.567005Z",
     "start_time": "2025-09-29T12:44:09.563718Z"
    }
   },
   "cell_type": "code",
   "source": "cleaned_data = data.horsepower.dropna()",
   "id": "db114f7606b007bb",
   "outputs": [],
   "execution_count": 120
  },
  {
   "metadata": {
    "ExecuteTime": {
     "end_time": "2025-09-29T12:44:11.651543Z",
     "start_time": "2025-09-29T12:44:11.646147Z"
    }
   },
   "cell_type": "code",
   "source": [
    "if len(cleaned_data) % 2 == 1:\n",
    "    median = sorted(cleaned_data)[(len(cleaned_data)+1)//2]\n",
    "else:\n",
    "    median = sum(sorted(cleaned_data)[len(cleaned_data)//2:len(cleaned_data)//2+2])/2\n",
    "median"
   ],
   "id": "1d469492c344103",
   "outputs": [
    {
     "data": {
      "text/plain": [
       "149.0"
      ]
     },
     "execution_count": 121,
     "metadata": {},
     "output_type": "execute_result"
    }
   ],
   "execution_count": 121
  },
  {
   "metadata": {
    "ExecuteTime": {
     "end_time": "2025-09-29T12:44:14.062322Z",
     "start_time": "2025-09-29T12:44:14.013666Z"
    }
   },
   "cell_type": "code",
   "source": [
    "unique_values = {}\n",
    "for value in cleaned_data:\n",
    "    if value not in unique_values:\n",
    "        unique_values[value] = sum(cleaned_data == value)\n"
   ],
   "id": "db4f687718e2ee79",
   "outputs": [],
   "execution_count": 122
  },
  {
   "metadata": {
    "ExecuteTime": {
     "end_time": "2025-09-29T12:44:15.328179Z",
     "start_time": "2025-09-29T12:44:15.325457Z"
    }
   },
   "cell_type": "code",
   "source": [
    "most_frequent = unique_values[sorted(unique_values, key=unique_values.get, reverse=True)[0]]\n",
    "most_frequent"
   ],
   "id": "f5dc7f6aa61fedeb",
   "outputs": [
    {
     "data": {
      "text/plain": [
       "142"
      ]
     },
     "execution_count": 123,
     "metadata": {},
     "output_type": "execute_result"
    }
   ],
   "execution_count": 123
  },
  {
   "metadata": {
    "ExecuteTime": {
     "end_time": "2025-09-29T12:44:19.818492Z",
     "start_time": "2025-09-29T12:44:19.815910Z"
    }
   },
   "cell_type": "code",
   "source": "data_filled = data.horsepower.fillna(most_frequent)",
   "id": "1c1d5bc6dea1b5e4",
   "outputs": [],
   "execution_count": 124
  },
  {
   "metadata": {
    "ExecuteTime": {
     "end_time": "2025-09-29T12:44:21.493997Z",
     "start_time": "2025-09-29T12:44:21.488482Z"
    }
   },
   "cell_type": "code",
   "source": [
    "if len(data_filled) % 2 == 1:\n",
    "    new_median = sorted(data_filled)[(len(data_filled)+1)//2]\n",
    "else:\n",
    "    new_median = sum(sorted(data_filled)[len(data_filled)//2:len(data_filled)//2+2])/2\n",
    "new_median"
   ],
   "id": "f7dad61ea3f7ff59",
   "outputs": [
    {
     "data": {
      "text/plain": [
       "146.0"
      ]
     },
     "execution_count": 125,
     "metadata": {},
     "output_type": "execute_result"
    }
   ],
   "execution_count": 125
  },
  {
   "metadata": {
    "ExecuteTime": {
     "end_time": "2025-09-29T12:44:23.583420Z",
     "start_time": "2025-09-29T12:44:23.581361Z"
    }
   },
   "cell_type": "code",
   "source": "#DECREASED",
   "id": "75d58da66582981c",
   "outputs": [],
   "execution_count": 126
  },
  {
   "metadata": {
    "ExecuteTime": {
     "end_time": "2025-09-29T12:44:23.950562Z",
     "start_time": "2025-09-29T12:44:23.947650Z"
    }
   },
   "cell_type": "code",
   "source": "X = data[[\"vehicle_weight\", \"model_year\"]][:7]",
   "id": "6a0c104fc439632c",
   "outputs": [],
   "execution_count": 127
  },
  {
   "metadata": {
    "ExecuteTime": {
     "end_time": "2025-09-29T12:44:25.196989Z",
     "start_time": "2025-09-29T12:44:25.194904Z"
    }
   },
   "cell_type": "code",
   "source": "xTx = X.T@X",
   "id": "cc3019a047f976e5",
   "outputs": [],
   "execution_count": 128
  },
  {
   "metadata": {
    "ExecuteTime": {
     "end_time": "2025-09-29T12:44:25.603793Z",
     "start_time": "2025-09-29T12:44:25.601683Z"
    }
   },
   "cell_type": "code",
   "source": "xTx_inv = np.linalg.inv(xTx)",
   "id": "d7af490fd982fa43",
   "outputs": [],
   "execution_count": 129
  },
  {
   "metadata": {
    "ExecuteTime": {
     "end_time": "2025-09-29T12:44:26.014495Z",
     "start_time": "2025-09-29T12:44:26.012344Z"
    }
   },
   "cell_type": "code",
   "source": "y = [1100, 1300, 800, 900, 1000, 1100, 1200]",
   "id": "1a9ff8d0e77de28b",
   "outputs": [],
   "execution_count": 130
  },
  {
   "metadata": {
    "ExecuteTime": {
     "end_time": "2025-09-29T12:44:26.442920Z",
     "start_time": "2025-09-29T12:44:26.438913Z"
    }
   },
   "cell_type": "code",
   "source": "sum((xTx_inv@X.T)@y)",
   "id": "4cfb294bc038d3f0",
   "outputs": [
    {
     "data": {
      "text/plain": [
       "0.4903094879707429"
      ]
     },
     "execution_count": 131,
     "metadata": {},
     "output_type": "execute_result"
    }
   ],
   "execution_count": 131
  },
  {
   "metadata": {
    "ExecuteTime": {
     "end_time": "2025-09-29T12:44:26.986435Z",
     "start_time": "2025-09-29T12:44:26.982961Z"
    }
   },
   "cell_type": "code",
   "source": "np.array([1,2,3,4,5,6])[2:4]",
   "id": "781d6666c44828ee",
   "outputs": [
    {
     "data": {
      "text/plain": [
       "array([3, 4])"
      ]
     },
     "execution_count": 132,
     "metadata": {},
     "output_type": "execute_result"
    }
   ],
   "execution_count": 132
  },
  {
   "metadata": {},
   "cell_type": "code",
   "outputs": [],
   "execution_count": null,
   "source": "",
   "id": "29f3bda88d97b137"
  }
 ],
 "metadata": {
  "kernelspec": {
   "display_name": "Python 3",
   "language": "python",
   "name": "python3"
  },
  "language_info": {
   "codemirror_mode": {
    "name": "ipython",
    "version": 2
   },
   "file_extension": ".py",
   "mimetype": "text/x-python",
   "name": "python",
   "nbconvert_exporter": "python",
   "pygments_lexer": "ipython2",
   "version": "2.7.6"
  }
 },
 "nbformat": 4,
 "nbformat_minor": 5
}
