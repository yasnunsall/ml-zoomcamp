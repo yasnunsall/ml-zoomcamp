{
 "cells": [
  {
   "metadata": {
    "collapsed": true,
    "ExecuteTime": {
     "end_time": "2025-10-06T09:32:13.080390Z",
     "start_time": "2025-10-06T09:32:12.205873Z"
    }
   },
   "cell_type": "code",
   "outputs": [],
   "execution_count": 1,
   "source": [
    "import pandas as pd\n",
    "import numpy as np\n",
    "import math"
   ],
   "id": "b30d0cadd97c0c1"
  },
  {
   "metadata": {
    "ExecuteTime": {
     "end_time": "2025-10-06T09:46:34.147391Z",
     "start_time": "2025-10-06T09:46:34.132920Z"
    }
   },
   "cell_type": "code",
   "source": "raw_data = pd.read_csv(\"car_fuel_efficiency.csv\")",
   "id": "1be374391e109729",
   "outputs": [],
   "execution_count": 2
  },
  {
   "metadata": {
    "ExecuteTime": {
     "end_time": "2025-10-06T09:46:52.473199Z",
     "start_time": "2025-10-06T09:46:52.462952Z"
    }
   },
   "cell_type": "code",
   "source": "raw_data.head()",
   "id": "a0aa3bc1bbe0d462",
   "outputs": [
    {
     "data": {
      "text/plain": [
       "   engine_displacement  num_cylinders  horsepower  vehicle_weight  \\\n",
       "0                  170            3.0       159.0     3413.433759   \n",
       "1                  130            5.0        97.0     3149.664934   \n",
       "2                  170            NaN        78.0     3079.038997   \n",
       "3                  220            4.0         NaN     2542.392402   \n",
       "4                  210            1.0       140.0     3460.870990   \n",
       "\n",
       "   acceleration  model_year  origin fuel_type         drivetrain  num_doors  \\\n",
       "0          17.7        2003  Europe  Gasoline    All-wheel drive        0.0   \n",
       "1          17.8        2007     USA  Gasoline  Front-wheel drive        0.0   \n",
       "2          15.1        2018  Europe  Gasoline  Front-wheel drive        0.0   \n",
       "3          20.2        2009     USA    Diesel    All-wheel drive        2.0   \n",
       "4          14.4        2009  Europe  Gasoline    All-wheel drive        2.0   \n",
       "\n",
       "   fuel_efficiency_mpg  \n",
       "0            13.231729  \n",
       "1            13.688217  \n",
       "2            14.246341  \n",
       "3            16.912736  \n",
       "4            12.488369  "
      ],
      "text/html": [
       "<div>\n",
       "<style scoped>\n",
       "    .dataframe tbody tr th:only-of-type {\n",
       "        vertical-align: middle;\n",
       "    }\n",
       "\n",
       "    .dataframe tbody tr th {\n",
       "        vertical-align: top;\n",
       "    }\n",
       "\n",
       "    .dataframe thead th {\n",
       "        text-align: right;\n",
       "    }\n",
       "</style>\n",
       "<table border=\"1\" class=\"dataframe\">\n",
       "  <thead>\n",
       "    <tr style=\"text-align: right;\">\n",
       "      <th></th>\n",
       "      <th>engine_displacement</th>\n",
       "      <th>num_cylinders</th>\n",
       "      <th>horsepower</th>\n",
       "      <th>vehicle_weight</th>\n",
       "      <th>acceleration</th>\n",
       "      <th>model_year</th>\n",
       "      <th>origin</th>\n",
       "      <th>fuel_type</th>\n",
       "      <th>drivetrain</th>\n",
       "      <th>num_doors</th>\n",
       "      <th>fuel_efficiency_mpg</th>\n",
       "    </tr>\n",
       "  </thead>\n",
       "  <tbody>\n",
       "    <tr>\n",
       "      <th>0</th>\n",
       "      <td>170</td>\n",
       "      <td>3.0</td>\n",
       "      <td>159.0</td>\n",
       "      <td>3413.433759</td>\n",
       "      <td>17.7</td>\n",
       "      <td>2003</td>\n",
       "      <td>Europe</td>\n",
       "      <td>Gasoline</td>\n",
       "      <td>All-wheel drive</td>\n",
       "      <td>0.0</td>\n",
       "      <td>13.231729</td>\n",
       "    </tr>\n",
       "    <tr>\n",
       "      <th>1</th>\n",
       "      <td>130</td>\n",
       "      <td>5.0</td>\n",
       "      <td>97.0</td>\n",
       "      <td>3149.664934</td>\n",
       "      <td>17.8</td>\n",
       "      <td>2007</td>\n",
       "      <td>USA</td>\n",
       "      <td>Gasoline</td>\n",
       "      <td>Front-wheel drive</td>\n",
       "      <td>0.0</td>\n",
       "      <td>13.688217</td>\n",
       "    </tr>\n",
       "    <tr>\n",
       "      <th>2</th>\n",
       "      <td>170</td>\n",
       "      <td>NaN</td>\n",
       "      <td>78.0</td>\n",
       "      <td>3079.038997</td>\n",
       "      <td>15.1</td>\n",
       "      <td>2018</td>\n",
       "      <td>Europe</td>\n",
       "      <td>Gasoline</td>\n",
       "      <td>Front-wheel drive</td>\n",
       "      <td>0.0</td>\n",
       "      <td>14.246341</td>\n",
       "    </tr>\n",
       "    <tr>\n",
       "      <th>3</th>\n",
       "      <td>220</td>\n",
       "      <td>4.0</td>\n",
       "      <td>NaN</td>\n",
       "      <td>2542.392402</td>\n",
       "      <td>20.2</td>\n",
       "      <td>2009</td>\n",
       "      <td>USA</td>\n",
       "      <td>Diesel</td>\n",
       "      <td>All-wheel drive</td>\n",
       "      <td>2.0</td>\n",
       "      <td>16.912736</td>\n",
       "    </tr>\n",
       "    <tr>\n",
       "      <th>4</th>\n",
       "      <td>210</td>\n",
       "      <td>1.0</td>\n",
       "      <td>140.0</td>\n",
       "      <td>3460.870990</td>\n",
       "      <td>14.4</td>\n",
       "      <td>2009</td>\n",
       "      <td>Europe</td>\n",
       "      <td>Gasoline</td>\n",
       "      <td>All-wheel drive</td>\n",
       "      <td>2.0</td>\n",
       "      <td>12.488369</td>\n",
       "    </tr>\n",
       "  </tbody>\n",
       "</table>\n",
       "</div>"
      ]
     },
     "execution_count": 3,
     "metadata": {},
     "output_type": "execute_result"
    }
   ],
   "execution_count": 3
  },
  {
   "metadata": {},
   "cell_type": "code",
   "outputs": [],
   "execution_count": null,
   "source": "#QUESTION 1",
   "id": "94fa38e196a58288"
  },
  {
   "metadata": {
    "ExecuteTime": {
     "end_time": "2025-10-06T09:47:31.029132Z",
     "start_time": "2025-10-06T09:47:31.024440Z"
    }
   },
   "cell_type": "code",
   "source": "raw_data.isna().sum()",
   "id": "2fef56afa4934332",
   "outputs": [
    {
     "data": {
      "text/plain": [
       "engine_displacement      0\n",
       "num_cylinders          482\n",
       "horsepower             708\n",
       "vehicle_weight           0\n",
       "acceleration           930\n",
       "model_year               0\n",
       "origin                   0\n",
       "fuel_type                0\n",
       "drivetrain               0\n",
       "num_doors              502\n",
       "fuel_efficiency_mpg      0\n",
       "dtype: int64"
      ]
     },
     "execution_count": 4,
     "metadata": {},
     "output_type": "execute_result"
    }
   ],
   "execution_count": 4
  },
  {
   "metadata": {},
   "cell_type": "code",
   "outputs": [],
   "execution_count": null,
   "source": "#QUESTION 2",
   "id": "9a5fc47e0f39399d"
  },
  {
   "metadata": {
    "ExecuteTime": {
     "end_time": "2025-10-06T09:49:32.634081Z",
     "start_time": "2025-10-06T09:49:32.629495Z"
    }
   },
   "cell_type": "code",
   "source": "raw_data[\"horsepower\"].median()",
   "id": "45b6b6b08c9336c4",
   "outputs": [
    {
     "data": {
      "text/plain": [
       "np.float64(149.0)"
      ]
     },
     "execution_count": 5,
     "metadata": {},
     "output_type": "execute_result"
    }
   ],
   "execution_count": 5
  },
  {
   "metadata": {},
   "cell_type": "code",
   "outputs": [],
   "execution_count": null,
   "source": "#QUESTION 3",
   "id": "14e352dd4ff07bac"
  },
  {
   "metadata": {
    "ExecuteTime": {
     "end_time": "2025-10-06T10:56:59.756884Z",
     "start_time": "2025-10-06T10:56:59.751789Z"
    }
   },
   "cell_type": "code",
   "source": [
    "from sklearn.model_selection import train_test_split\n",
    "\n",
    "columns = [\"engine_displacement\", \"horsepower\", \"vehicle_weight\", \"model_year\"]\n",
    "target = \"fuel_efficiency_mpg\"\n",
    "X = raw_data[columns]\n",
    "y = raw_data[target]\n",
    "\n",
    "X_train, X_test, y_train, y_test = train_test_split(X, y, test_size=0.2, random_state=42)\n",
    "X_train, X_val, y_train, y_val = train_test_split(X_train, y_train, test_size=0.25, shuffle=False)\n"
   ],
   "id": "9fbf65906d46cec0",
   "outputs": [],
   "execution_count": 36
  },
  {
   "metadata": {
    "ExecuteTime": {
     "end_time": "2025-10-06T10:57:42.681573Z",
     "start_time": "2025-10-06T10:57:42.675126Z"
    }
   },
   "cell_type": "code",
   "source": [
    "#Case 1: Fill missing values with zero\n",
    "\n",
    "X_train_1 = X_train.fillna(0)\n",
    "X_val_1 = X_val.fillna(0)\n",
    "\n",
    "from sklearn.linear_model import LinearRegression\n",
    "from sklearn.metrics import mean_squared_error\n",
    "\n",
    "LR = LinearRegression()\n",
    "LR.fit(X_train_1, y_train)\n",
    "y_pred = LR.predict(X_val_1)\n",
    "rmse = round(mean_squared_error(y_val, y_pred)**.5, 2)\n",
    "print(rmse)"
   ],
   "id": "ba25589123658ef",
   "outputs": [
    {
     "name": "stdout",
     "output_type": "stream",
     "text": [
      "0.52\n"
     ]
    }
   ],
   "execution_count": 38
  },
  {
   "metadata": {
    "ExecuteTime": {
     "end_time": "2025-10-06T10:58:11.971410Z",
     "start_time": "2025-10-06T10:58:11.963903Z"
    }
   },
   "cell_type": "code",
   "source": [
    "#Case 1: Fill missing values with mean\n",
    "\n",
    "mean = X_train.mean()\n",
    "X_train_2 = X_train.fillna(mean)\n",
    "X_val_2 = X_val.fillna(mean)\n",
    "\n",
    "from sklearn.linear_model import LinearRegression\n",
    "from sklearn.metrics import mean_squared_error\n",
    "\n",
    "LR = LinearRegression()\n",
    "LR.fit(X_train_2, y_train)\n",
    "y_pred = LR.predict(X_val_2)\n",
    "rmse = round(mean_squared_error(y_val, y_pred)**.5, 2)\n",
    "print(rmse)"
   ],
   "id": "6f51c8257e213d1e",
   "outputs": [
    {
     "name": "stdout",
     "output_type": "stream",
     "text": [
      "0.46\n"
     ]
    }
   ],
   "execution_count": 39
  },
  {
   "metadata": {},
   "cell_type": "code",
   "outputs": [],
   "execution_count": null,
   "source": "#QUESTION 4",
   "id": "9ad30641784cbf1d"
  },
  {
   "metadata": {
    "ExecuteTime": {
     "end_time": "2025-10-06T10:46:47.758354Z",
     "start_time": "2025-10-06T10:46:47.748503Z"
    }
   },
   "cell_type": "code",
   "source": [
    "from sklearn.linear_model import Ridge\n",
    "\n",
    "r = [0, .01, 1, 10, 100]\n",
    "for r_ in r:\n",
    "    LR = Ridge(alpha=r_)\n",
    "    LR.fit(X_train_1, y_train)\n",
    "    y_pred = LR.predict(X_val_1)\n",
    "    rmse = round(mean_squared_error(y_val, y_pred)**.5, 2)\n",
    "    print(f\"rmse is {rmse} for alpha = {r_}\", end=\"\\n\")"
   ],
   "id": "166db95b3634d858",
   "outputs": [
    {
     "name": "stdout",
     "output_type": "stream",
     "text": [
      "rmse is 0.52 for alpha = 0\n",
      "rmse is 0.52 for alpha = 0.01\n",
      "rmse is 0.52 for alpha = 1\n",
      "rmse is 0.52 for alpha = 10\n",
      "rmse is 0.52 for alpha = 100\n"
     ]
    }
   ],
   "execution_count": 28
  },
  {
   "metadata": {},
   "cell_type": "code",
   "outputs": [],
   "execution_count": null,
   "source": "#QUESTION 5",
   "id": "f157a2e56546543a"
  },
  {
   "metadata": {
    "ExecuteTime": {
     "end_time": "2025-10-06T10:51:29.102964Z",
     "start_time": "2025-10-06T10:51:29.078087Z"
    }
   },
   "cell_type": "code",
   "source": [
    "seed_values = [0, 1, 2, 3, 4, 5, 6, 7, 8, 9]\n",
    "\n",
    "all_rmses = np.array([])\n",
    "for seed in seed_values:\n",
    "    X_train, X_test, y_train, y_test = train_test_split(X, y, test_size=0.2, random_state=seed)\n",
    "    X_train, X_val, y_train, y_val = train_test_split(X_train, y_train, test_size=0.25, shuffle=False)\n",
    "    X_train = X_train.fillna(0)\n",
    "    X_val = X_val.fillna(0)\n",
    "    LR = LinearRegression()\n",
    "    LR.fit(X_train, y_train)\n",
    "    y_pred = LR.predict(X_val)\n",
    "    rmse = round(mean_squared_error(y_val, y_pred)**.5, 2)\n",
    "    print(f\"rmse is {rmse} for seed = {seed}\", end=\"\\n\")\n",
    "    all_rmses = np.append(all_rmses, rmse)\n",
    "\n",
    "print(f\"The standart deviation of the all scores is {round(np.std(all_rmses), 3)}\")"
   ],
   "id": "5e38b14948811aa",
   "outputs": [
    {
     "name": "stdout",
     "output_type": "stream",
     "text": [
      "rmse is 0.52 for seed = 0\n",
      "rmse is 0.53 for seed = 1\n",
      "rmse is 0.51 for seed = 2\n",
      "rmse is 0.52 for seed = 3\n",
      "rmse is 0.53 for seed = 4\n",
      "rmse is 0.51 for seed = 5\n",
      "rmse is 0.53 for seed = 6\n",
      "rmse is 0.51 for seed = 7\n",
      "rmse is 0.51 for seed = 8\n",
      "rmse is 0.52 for seed = 9\n",
      "The standart deviation of the all scores is 0.008\n"
     ]
    }
   ],
   "execution_count": 33
  },
  {
   "metadata": {},
   "cell_type": "code",
   "outputs": [],
   "execution_count": null,
   "source": "#QUESTION 6",
   "id": "7cbecf13e431f93a"
  },
  {
   "metadata": {
    "ExecuteTime": {
     "end_time": "2025-10-06T10:53:33.829740Z",
     "start_time": "2025-10-06T10:53:33.822838Z"
    }
   },
   "cell_type": "code",
   "source": [
    "X_train, X_test, y_train, y_test = train_test_split(X, y, test_size=0.2, random_state=9)\n",
    "X_train = X_train.fillna(0)\n",
    "X_test = X_test.fillna(0)\n",
    "\n",
    "ridge = Ridge(alpha=0.001)\n",
    "ridge.fit(X_train, y_train)\n",
    "y_pred = ridge.predict(X_test)\n",
    "rmse = round(mean_squared_error(y_test, y_pred)**.5, 2)\n",
    "print(rmse)"
   ],
   "id": "6ddc335ce016d08e",
   "outputs": [
    {
     "name": "stdout",
     "output_type": "stream",
     "text": [
      "0.52\n"
     ]
    }
   ],
   "execution_count": 35
  }
 ],
 "metadata": {
  "kernelspec": {
   "display_name": "Python 3",
   "language": "python",
   "name": "python3"
  },
  "language_info": {
   "codemirror_mode": {
    "name": "ipython",
    "version": 2
   },
   "file_extension": ".py",
   "mimetype": "text/x-python",
   "name": "python",
   "nbconvert_exporter": "python",
   "pygments_lexer": "ipython2",
   "version": "2.7.6"
  }
 },
 "nbformat": 4,
 "nbformat_minor": 5
}
